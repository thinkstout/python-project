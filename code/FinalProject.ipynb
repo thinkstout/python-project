{
 "cells": [
  {
   "cell_type": "code",
   "execution_count": 1,
   "metadata": {
    "collapsed": true
   },
   "outputs": [],
   "source": [
    "# Final Project\n",
    "# Phase 1\n",
    "\n",
    "# Cale Nearing, Brian Stout, Austin Zebrowski"
   ]
  },
  {
   "cell_type": "code",
   "execution_count": 2,
   "metadata": {
    "collapsed": true
   },
   "outputs": [],
   "source": [
    "# import packages\n",
    "\n",
    "import pandas as pd\n",
    "import numpy as np"
   ]
  },
  {
   "cell_type": "code",
   "execution_count": 3,
   "metadata": {},
   "outputs": [
    {
     "name": "stdout",
     "output_type": "stream",
     "text": [
      "Number of NaN in is:  16\n",
      "        Scn  A2  A3  A4  A5  A6         A7  A8  A9  A10  CLASS\n",
      "0   1000025   5   1   1   1   2   1.000000   3   1    1      2\n",
      "1   1002945   5   4   4   5   7  10.000000   3   2    1      2\n",
      "2   1015425   3   1   1   1   2   2.000000   3   1    1      2\n",
      "3   1016277   6   8   8   1   3   4.000000   3   7    1      2\n",
      "4   1017023   4   1   1   3   2   1.000000   3   1    1      2\n",
      "5   1017122   8  10  10   8   7  10.000000   9   7    1      4\n",
      "6   1018099   1   1   1   1   2  10.000000   3   1    1      2\n",
      "7   1018561   2   1   2   1   2   1.000000   3   1    1      2\n",
      "8   1033078   2   1   1   1   2   1.000000   1   1    5      2\n",
      "9   1033078   4   2   1   1   2   1.000000   2   1    1      2\n",
      "10  1035283   1   1   1   1   1   1.000000   3   1    1      2\n",
      "11  1036172   2   1   1   1   2   1.000000   2   1    1      2\n",
      "12  1041801   5   3   3   3   2   3.000000   4   4    1      4\n",
      "13  1043999   1   1   1   1   2   3.000000   3   1    1      2\n",
      "14  1044572   8   7   5  10   7   9.000000   5   5    4      4\n",
      "15  1047630   7   4   6   4   6   1.000000   4   3    1      4\n",
      "16  1048672   4   1   1   1   2   1.000000   2   1    1      2\n",
      "17  1049815   4   1   1   1   2   1.000000   3   1    1      2\n",
      "18  1050670  10   7   7   6   4  10.000000   4   1    2      4\n",
      "19  1050718   6   1   1   1   2   1.000000   3   1    1      2\n",
      "20  1054590   7   3   2  10   5  10.000000   5   4    4      4\n",
      "21  1054593  10   5   5   3   6   7.000000   7  10    1      4\n",
      "22  1056784   3   1   1   1   2   1.000000   2   1    1      2\n",
      "23  1057013   8   4   5   1   2   3.544656   7   3    1      4\n",
      "24  1059552   1   1   1   1   2   1.000000   3   1    1      2\n"
     ]
    }
   ],
   "source": [
    "# read csv, replace '?' with Nan, and count Nan\n",
    "\n",
    "cancer_df = pd.read_csv('C:/Users/azebr/GIT/data/Breast-Cancer-Wisconsin.csv')\n",
    "cancer_df['A7'].replace('?', np.NaN, inplace=True)\n",
    "cancer_df['A7'] = pd.to_numeric(cancer_df['A7'])\n",
    "\n",
    "print('Number of NaN in is: ', cancer_df.isnull().sum().sum())\n",
    "\n",
    "# replace all NaN in dataframe with the mean of column A7\n",
    "\n",
    "A7_mean = cancer_df['A7'].mean(skipna=True)\n",
    "cancer_df.fillna(value=A7_mean, inplace=True)\n",
    "\n",
    "print(cancer_df.head(25))"
   ]
  },
  {
   "cell_type": "code",
   "execution_count": null,
   "metadata": {
    "collapsed": true
   },
   "outputs": [],
   "source": []
  }
 ],
 "metadata": {
  "kernelspec": {
   "display_name": "Python 3",
   "language": "python",
   "name": "python3"
  },
  "language_info": {
   "codemirror_mode": {
    "name": "ipython",
    "version": 3
   },
   "file_extension": ".py",
   "mimetype": "text/x-python",
   "name": "python",
   "nbconvert_exporter": "python",
   "pygments_lexer": "ipython3",
   "version": "3.6.1"
  }
 },
 "nbformat": 4,
 "nbformat_minor": 2
}
